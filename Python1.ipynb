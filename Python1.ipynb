{
  "nbformat": 4,
  "nbformat_minor": 0,
  "metadata": {
    "colab": {
      "provenance": [],
      "include_colab_link": true
    },
    "kernelspec": {
      "name": "python3",
      "display_name": "Python 3"
    },
    "language_info": {
      "name": "python"
    }
  },
  "cells": [
    {
      "cell_type": "markdown",
      "metadata": {
        "id": "view-in-github",
        "colab_type": "text"
      },
      "source": [
        "<a href=\"https://colab.research.google.com/github/GNANASAMBANTHAN/Python-Basics/blob/main/Python1.ipynb\" target=\"_parent\"><img src=\"https://colab.research.google.com/assets/colab-badge.svg\" alt=\"Open In Colab\"/></a>"
      ]
    },
    {
      "cell_type": "markdown",
      "source": [],
      "metadata": {
        "id": "Z7lsxRWSdfmf"
      }
    },
    {
      "cell_type": "code",
      "source": [
        "print('Hello World!')"
      ],
      "metadata": {
        "colab": {
          "base_uri": "https://localhost:8080/"
        },
        "id": "A4xQJY8edXIB",
        "outputId": "5f1d6b40-d2d3-4936-d9b8-ed7fdaf4ff50"
      },
      "execution_count": null,
      "outputs": [
        {
          "output_type": "stream",
          "name": "stdout",
          "text": [
            "Hello World!\n"
          ]
        }
      ]
    },
    {
      "cell_type": "code",
      "source": [
        "a=56\n",
        "b=45\n",
        "print(a+b)"
      ],
      "metadata": {
        "colab": {
          "base_uri": "https://localhost:8080/"
        },
        "id": "Q80nL9HLdbM4",
        "outputId": "30643d21-9d0b-4ff9-dd64-65e7a7023b26"
      },
      "execution_count": null,
      "outputs": [
        {
          "output_type": "stream",
          "name": "stdout",
          "text": [
            "101\n"
          ]
        }
      ]
    },
    {
      "cell_type": "code",
      "source": [
        "print(type(b))"
      ],
      "metadata": {
        "colab": {
          "base_uri": "https://localhost:8080/"
        },
        "id": "itH_W2mMd-M1",
        "outputId": "17a08f4a-d6c1-48be-e393-4158c06e8317"
      },
      "execution_count": null,
      "outputs": [
        {
          "output_type": "stream",
          "name": "stdout",
          "text": [
            "<class 'int'>\n"
          ]
        }
      ]
    },
    {
      "cell_type": "code",
      "source": [
        "if 5 > 2:\n",
        "  print(\"Five is greater than two!\")"
      ],
      "metadata": {
        "colab": {
          "base_uri": "https://localhost:8080/"
        },
        "id": "fjHF0UlEeYWi",
        "outputId": "dce20844-7544-4fb9-8678-6cc8585db622"
      },
      "execution_count": null,
      "outputs": [
        {
          "output_type": "stream",
          "name": "stdout",
          "text": [
            "Five is greater than two!\n"
          ]
        }
      ]
    },
    {
      "cell_type": "code",
      "source": [
        "a = \"\"\"Lorem ipsum dolor sit amet,\n",
        "consectetur adipiscing elit,\n",
        "sed do eiusmod tempor incididunt\n",
        "ut labore et dolore magna aliqua.\"\"\"\n",
        "print(a)"
      ],
      "metadata": {
        "colab": {
          "base_uri": "https://localhost:8080/"
        },
        "id": "xNf83dN8eozV",
        "outputId": "83c3932c-f291-4dbb-a4f9-1b9b1c22d5f1"
      },
      "execution_count": null,
      "outputs": [
        {
          "output_type": "stream",
          "name": "stdout",
          "text": [
            "Lorem ipsum dolor sit amet,\n",
            "consectetur adipiscing elit,\n",
            "sed do eiusmod tempor incididunt\n",
            "ut labore et dolore magna aliqua.\n"
          ]
        }
      ]
    },
    {
      "cell_type": "code",
      "source": [
        "myset = {\"apple\", \"banana\", \"cherry\"}\n",
        "print(myset)"
      ],
      "metadata": {
        "colab": {
          "base_uri": "https://localhost:8080/"
        },
        "id": "OYhDVjzOe2NN",
        "outputId": "0d662ca2-efc0-4db7-a325-f7711b0dfd10"
      },
      "execution_count": null,
      "outputs": [
        {
          "output_type": "stream",
          "name": "stdout",
          "text": [
            "{'apple', 'banana', 'cherry'}\n"
          ]
        }
      ]
    },
    {
      "cell_type": "code",
      "source": [
        "print(type(myset))"
      ],
      "metadata": {
        "colab": {
          "base_uri": "https://localhost:8080/"
        },
        "id": "Cc_3kP9Ge7UY",
        "outputId": "37cbaae1-b335-4942-ab2f-1ffea60aa4d2"
      },
      "execution_count": null,
      "outputs": [
        {
          "output_type": "stream",
          "name": "stdout",
          "text": [
            "<class 'set'>\n"
          ]
        }
      ]
    },
    {
      "cell_type": "code",
      "source": [
        "import pandas as pd"
      ],
      "metadata": {
        "id": "qTMT7NMU1PE_"
      },
      "execution_count": null,
      "outputs": []
    },
    {
      "cell_type": "code",
      "source": [
        "from tabulate import tabulate"
      ],
      "metadata": {
        "id": "ev0mT6rB125W"
      },
      "execution_count": null,
      "outputs": []
    },
    {
      "cell_type": "code",
      "source": [
        "import traceback"
      ],
      "metadata": {
        "id": "RxJi_jCr1-rk"
      },
      "execution_count": null,
      "outputs": []
    },
    {
      "cell_type": "code",
      "source": [
        "import numpy as np"
      ],
      "metadata": {
        "id": "ugJybMtv2Nwe"
      },
      "execution_count": null,
      "outputs": []
    },
    {
      "cell_type": "code",
      "source": [
        "import matplotlib.pyplot as plt"
      ],
      "metadata": {
        "id": "dvi9twX02dzV"
      },
      "execution_count": null,
      "outputs": []
    },
    {
      "cell_type": "code",
      "source": [
        "from requests import get"
      ],
      "metadata": {
        "id": "iGrvt18n2jDw"
      },
      "execution_count": null,
      "outputs": []
    },
    {
      "cell_type": "code",
      "source": [
        "import requests"
      ],
      "metadata": {
        "id": "m8qzglFi2psH"
      },
      "execution_count": null,
      "outputs": []
    },
    {
      "cell_type": "code",
      "source": [
        "import os"
      ],
      "metadata": {
        "id": "AGVFSwSo2tUg"
      },
      "execution_count": null,
      "outputs": []
    },
    {
      "cell_type": "code",
      "source": [
        "a=26\n",
        "b=76\n",
        "c=(a*b)\n",
        "print(c)"
      ],
      "metadata": {
        "colab": {
          "base_uri": "https://localhost:8080/"
        },
        "id": "Wj4YN2vE3Omd",
        "outputId": "76b6dc8b-45d7-4170-a782-c6375013b4e5"
      },
      "execution_count": null,
      "outputs": [
        {
          "output_type": "stream",
          "name": "stdout",
          "text": [
            "1976\n"
          ]
        }
      ]
    },
    {
      "cell_type": "code",
      "source": [
        "lst_names = []\n",
        "lst_cities = [\"Bangalore\",\"Chennai\", \"SFO\", \"Beijing\"]\n",
        "lst_cities.append(\"NYC\")\n",
        "lst_age = [10,20]\n",
        "lst_age.append(30)\n",
        "for val in lst_cities:\n",
        "  print(val)\n",
        "if \"SFO\" in lst_cities:\n",
        "  print(\"yes\")\n",
        "else:\n",
        "  print(\"no\")"
      ],
      "metadata": {
        "colab": {
          "base_uri": "https://localhost:8080/"
        },
        "id": "zs31thnv3kRj",
        "outputId": "c979a1db-ddba-464e-b20c-621e9d9946a7"
      },
      "execution_count": null,
      "outputs": [
        {
          "output_type": "stream",
          "name": "stdout",
          "text": [
            "Bangalore\n",
            "Chennai\n",
            "SFO\n",
            "Beijing\n",
            "NYC\n",
            "yes\n"
          ]
        }
      ]
    },
    {
      "cell_type": "code",
      "source": [
        "set_names = ()\n",
        "set_cities = [\"Himachal Pradesh\",\"Uttar Pradesh\",\"Delhi\",\"Denmark\"]\n",
        "set_cities.append(\"Chennai\")\n",
        "set_age = [20,40]\n",
        "set_age.append(60)\n",
        "print(set_cities)\n",
        "print(set_age)"
      ],
      "metadata": {
        "colab": {
          "base_uri": "https://localhost:8080/"
        },
        "id": "cFUH-CF--cR6",
        "outputId": "b38666b7-420d-45d1-e875-2fb8f01d254c"
      },
      "execution_count": null,
      "outputs": [
        {
          "output_type": "stream",
          "name": "stdout",
          "text": [
            "['Himachal Pradesh', 'Uttar Pradesh', 'Delhi', 'Denmark', 'Chennai']\n",
            "[20, 40, 60]\n"
          ]
        }
      ]
    },
    {
      "cell_type": "code",
      "source": [
        "dict_data = {}\n",
        "dict_data['pet'] = []\n",
        "dict_data['pet'].append({\n",
        "    'name': 'Dog',\n",
        "    'website': 'doggy.com',\n",
        "    'from': 'England'\n",
        "})\n",
        "dict_data['pet'].append({\n",
        "    'name' : 'Tiger',\n",
        "    'website': 'Tigo.com',\n",
        "    'from': 'Australia'\n",
        "})\n",
        "print(dict_data)\n",
        "print(type(dict_data))"
      ],
      "metadata": {
        "id": "nhP8AzjzrVwi",
        "outputId": "107c1d08-d671-43b6-9761-11f2b144a983",
        "colab": {
          "base_uri": "https://localhost:8080/"
        }
      },
      "execution_count": null,
      "outputs": [
        {
          "output_type": "stream",
          "name": "stdout",
          "text": [
            "{'pet': [{'name': 'Dog', 'website': 'doggy.com', 'from': 'England'}, {'name': 'Tiger', 'website': 'Tigo.com', 'from': 'Australia'}]}\n",
            "<class 'dict'>\n"
          ]
        }
      ]
    },
    {
      "cell_type": "code",
      "source": [
        "dict_course ={'Sub':'English','Topic':'Grammar','Level':'Easy'}\n",
        "print(dict_course)\n",
        "print(type(dict_course))"
      ],
      "metadata": {
        "id": "CuYYMGb7t1el",
        "outputId": "45146bff-7892-4b08-c968-ac9da95bc80c",
        "colab": {
          "base_uri": "https://localhost:8080/"
        }
      },
      "execution_count": null,
      "outputs": [
        {
          "output_type": "stream",
          "name": "stdout",
          "text": [
            "{'Sub': 'English', 'Topic': 'Grammar', 'Level': 'Easy'}\n",
            "<class 'dict'>\n"
          ]
        }
      ]
    },
    {
      "cell_type": "code",
      "source": [
        "print(dict_course['Sub'])"
      ],
      "metadata": {
        "id": "z4GQJ53tuqde",
        "outputId": "2d33cdf9-0383-4ae5-f022-3f1b45f63c91",
        "colab": {
          "base_uri": "https://localhost:8080/"
        }
      },
      "execution_count": null,
      "outputs": [
        {
          "output_type": "stream",
          "name": "stdout",
          "text": [
            "English\n"
          ]
        }
      ]
    },
    {
      "cell_type": "code",
      "source": [
        "for key, value in dict_course.items():\n",
        "  print(value)"
      ],
      "metadata": {
        "id": "iboGjxe8u6YI",
        "outputId": "7d601e42-02af-46c8-ae0b-f46bee007f5b",
        "colab": {
          "base_uri": "https://localhost:8080/"
        }
      },
      "execution_count": null,
      "outputs": [
        {
          "output_type": "stream",
          "name": "stdout",
          "text": [
            "English\n",
            "Grammar\n",
            "Easy\n"
          ]
        }
      ]
    },
    {
      "cell_type": "code",
      "source": [
        "lst_pet_types = [\"Dog\", \"Tiger\", \"Elephant\"]\n",
        "c_pet_types = len(lst_pet_types)\n",
        "print(f\"# pet types: {c_pet_types}\")\n",
        "dict_pets = {\"name\": \"Dog\", \"age\": 2}\n",
        "c_pets = len(dict_pets)\n",
        "print(f\"# pets: {c_pets}\")\n",
        "dict_pets = {\"pets\": [{\"name\": \"Dog\", \"age\": 2}, {\"name\": \"Dog\", \"age\": 2}]}\n",
        "dict_p_h = {\"pets\": [{\"name\": \"Dog\", \"age\": 2}, {\"name\": \"Dog\", \"age\": 2}],\n",
        "            \"persons\": [{\"name\": \"Siva\", \"age\": 20}, {\"name\": \"Vasu\", \"age\": 14}]}\n",
        "c_pets, c_humans = len(dict_pets), len(dict_p_h)\n",
        "print(f\"# pets: {c_pets} ; # humans: {c_humans}\")\n",
        "lst_keys = [*dict_p_h]\n",
        "lst_values = [*dict_p_h.values()]\n",
        "print(f\"# keys: {len(lst_keys)} | # values: {len(lst_values)}\")\n",
        "print(f\"keys: {lst_keys} | values: {lst_values}\")"
      ],
      "metadata": {
        "id": "Je13nKR5vJ2q",
        "outputId": "5a3b94a3-fc34-4ac3-c773-723ad8d7d5e9",
        "colab": {
          "base_uri": "https://localhost:8080/"
        }
      },
      "execution_count": null,
      "outputs": [
        {
          "output_type": "stream",
          "name": "stdout",
          "text": [
            "# pet types: 3\n",
            "# pets: 2\n",
            "# pets: 1 ; # humans: 2\n",
            "# keys: 2 | # values: 2\n",
            "keys: ['pets', 'persons'] | values: [[{'name': 'Dog', 'age': 2}, {'name': 'Dog', 'age': 2}], [{'name': 'Siva', 'age': 20}, {'name': 'Vasu', 'age': 14}]]\n"
          ]
        }
      ]
    },
    {
      "cell_type": "code",
      "source": [
        "import csv"
      ],
      "metadata": {
        "id": "r2zMbSJ9Cyey"
      },
      "execution_count": 4,
      "outputs": []
    }
  ]
}