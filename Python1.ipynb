{
  "nbformat": 4,
  "nbformat_minor": 0,
  "metadata": {
    "colab": {
      "provenance": [],
      "include_colab_link": true
    },
    "kernelspec": {
      "name": "python3",
      "display_name": "Python 3"
    },
    "language_info": {
      "name": "python"
    }
  },
  "cells": [
    {
      "cell_type": "markdown",
      "metadata": {
        "id": "view-in-github",
        "colab_type": "text"
      },
      "source": [
        "<a href=\"https://colab.research.google.com/github/GNANASAMBANTHAN/Python-Basics/blob/main/Python1.ipynb\" target=\"_parent\"><img src=\"https://colab.research.google.com/assets/colab-badge.svg\" alt=\"Open In Colab\"/></a>"
      ]
    },
    {
      "cell_type": "code",
      "source": [
        "print('Hello World!')"
      ],
      "metadata": {
        "colab": {
          "base_uri": "https://localhost:8080/"
        },
        "id": "A4xQJY8edXIB",
        "outputId": "5f1d6b40-d2d3-4936-d9b8-ed7fdaf4ff50"
      },
      "execution_count": null,
      "outputs": [
        {
          "output_type": "stream",
          "name": "stdout",
          "text": [
            "Hello World!\n"
          ]
        }
      ]
    },
    {
      "cell_type": "code",
      "source": [
        "a=56\n",
        "b=45\n",
        "print(a+b)"
      ],
      "metadata": {
        "colab": {
          "base_uri": "https://localhost:8080/"
        },
        "id": "Q80nL9HLdbM4",
        "outputId": "30643d21-9d0b-4ff9-dd64-65e7a7023b26"
      },
      "execution_count": null,
      "outputs": [
        {
          "output_type": "stream",
          "name": "stdout",
          "text": [
            "101\n"
          ]
        }
      ]
    },
    {
      "cell_type": "code",
      "source": [
        "print(type(b))"
      ],
      "metadata": {
        "colab": {
          "base_uri": "https://localhost:8080/"
        },
        "id": "itH_W2mMd-M1",
        "outputId": "17a08f4a-d6c1-48be-e393-4158c06e8317"
      },
      "execution_count": null,
      "outputs": [
        {
          "output_type": "stream",
          "name": "stdout",
          "text": [
            "<class 'int'>\n"
          ]
        }
      ]
    },
    {
      "cell_type": "code",
      "source": [
        "if 5 > 2:\n",
        "  print(\"Five is greater than two!\")"
      ],
      "metadata": {
        "colab": {
          "base_uri": "https://localhost:8080/"
        },
        "id": "fjHF0UlEeYWi",
        "outputId": "dce20844-7544-4fb9-8678-6cc8585db622"
      },
      "execution_count": null,
      "outputs": [
        {
          "output_type": "stream",
          "name": "stdout",
          "text": [
            "Five is greater than two!\n"
          ]
        }
      ]
    },
    {
      "cell_type": "code",
      "source": [
        "a = \"\"\"Lorem ipsum dolor sit amet,\n",
        "consectetur adipiscing elit,\n",
        "sed do eiusmod tempor incididunt\n",
        "ut labore et dolore magna aliqua.\"\"\"\n",
        "print(a)"
      ],
      "metadata": {
        "colab": {
          "base_uri": "https://localhost:8080/"
        },
        "id": "xNf83dN8eozV",
        "outputId": "83c3932c-f291-4dbb-a4f9-1b9b1c22d5f1"
      },
      "execution_count": null,
      "outputs": [
        {
          "output_type": "stream",
          "name": "stdout",
          "text": [
            "Lorem ipsum dolor sit amet,\n",
            "consectetur adipiscing elit,\n",
            "sed do eiusmod tempor incididunt\n",
            "ut labore et dolore magna aliqua.\n"
          ]
        }
      ]
    },
    {
      "cell_type": "code",
      "source": [
        "myset = {\"apple\", \"banana\", \"cherry\"}\n",
        "print(myset)"
      ],
      "metadata": {
        "colab": {
          "base_uri": "https://localhost:8080/"
        },
        "id": "OYhDVjzOe2NN",
        "outputId": "0d662ca2-efc0-4db7-a325-f7711b0dfd10"
      },
      "execution_count": null,
      "outputs": [
        {
          "output_type": "stream",
          "name": "stdout",
          "text": [
            "{'apple', 'banana', 'cherry'}\n"
          ]
        }
      ]
    },
    {
      "cell_type": "code",
      "source": [
        "print(type(myset))"
      ],
      "metadata": {
        "colab": {
          "base_uri": "https://localhost:8080/"
        },
        "id": "Cc_3kP9Ge7UY",
        "outputId": "37cbaae1-b335-4942-ab2f-1ffea60aa4d2"
      },
      "execution_count": null,
      "outputs": [
        {
          "output_type": "stream",
          "name": "stdout",
          "text": [
            "<class 'set'>\n"
          ]
        }
      ]
    },
    {
      "cell_type": "code",
      "source": [
        "import pandas as pd"
      ],
      "metadata": {
        "id": "qTMT7NMU1PE_"
      },
      "execution_count": null,
      "outputs": []
    },
    {
      "cell_type": "code",
      "source": [
        "from tabulate import tabulate"
      ],
      "metadata": {
        "id": "ev0mT6rB125W"
      },
      "execution_count": null,
      "outputs": []
    },
    {
      "cell_type": "code",
      "source": [
        "import traceback"
      ],
      "metadata": {
        "id": "RxJi_jCr1-rk"
      },
      "execution_count": null,
      "outputs": []
    },
    {
      "cell_type": "code",
      "source": [
        "import numpy as np"
      ],
      "metadata": {
        "id": "ugJybMtv2Nwe"
      },
      "execution_count": null,
      "outputs": []
    },
    {
      "cell_type": "code",
      "source": [
        "import matplotlib.pyplot as plt"
      ],
      "metadata": {
        "id": "dvi9twX02dzV"
      },
      "execution_count": null,
      "outputs": []
    },
    {
      "cell_type": "code",
      "source": [
        "from requests import get"
      ],
      "metadata": {
        "id": "iGrvt18n2jDw"
      },
      "execution_count": null,
      "outputs": []
    },
    {
      "cell_type": "code",
      "source": [
        "import requests"
      ],
      "metadata": {
        "id": "m8qzglFi2psH"
      },
      "execution_count": null,
      "outputs": []
    },
    {
      "cell_type": "code",
      "source": [
        "import os"
      ],
      "metadata": {
        "id": "AGVFSwSo2tUg"
      },
      "execution_count": null,
      "outputs": []
    },
    {
      "cell_type": "code",
      "source": [
        "a=26\n",
        "b=76\n",
        "c=(a*b)\n",
        "print(c)"
      ],
      "metadata": {
        "colab": {
          "base_uri": "https://localhost:8080/"
        },
        "id": "Wj4YN2vE3Omd",
        "outputId": "76b6dc8b-45d7-4170-a782-c6375013b4e5"
      },
      "execution_count": null,
      "outputs": [
        {
          "output_type": "stream",
          "name": "stdout",
          "text": [
            "1976\n"
          ]
        }
      ]
    },
    {
      "cell_type": "code",
      "source": [
        "lst_names = []\n",
        "lst_cities = [\"Bangalore\",\"Chennai\", \"SFO\", \"Beijing\"]\n",
        "lst_cities.append(\"NYC\")\n",
        "lst_age = [10,20]\n",
        "lst_age.append(30)\n",
        "for val in lst_cities:\n",
        "  print(val)\n",
        "if \"SFO\" in lst_cities:\n",
        "  print(\"yes\")\n",
        "else:\n",
        "  print(\"no\")"
      ],
      "metadata": {
        "colab": {
          "base_uri": "https://localhost:8080/"
        },
        "id": "zs31thnv3kRj",
        "outputId": "c979a1db-ddba-464e-b20c-621e9d9946a7"
      },
      "execution_count": null,
      "outputs": [
        {
          "output_type": "stream",
          "name": "stdout",
          "text": [
            "Bangalore\n",
            "Chennai\n",
            "SFO\n",
            "Beijing\n",
            "NYC\n",
            "yes\n"
          ]
        }
      ]
    },
    {
      "cell_type": "code",
      "source": [
        "set_names = ()\n",
        "set_cities = [\"Himachal Pradesh\",\"Uttar Pradesh\",\"Delhi\",\"Denmark\"]\n",
        "set_cities.append(\"Chennai\")\n",
        "set_age = [20,40]\n",
        "set_age.append(60)\n",
        "print(set_cities)\n",
        "print(set_age)"
      ],
      "metadata": {
        "colab": {
          "base_uri": "https://localhost:8080/"
        },
        "id": "cFUH-CF--cR6",
        "outputId": "b38666b7-420d-45d1-e875-2fb8f01d254c"
      },
      "execution_count": null,
      "outputs": [
        {
          "output_type": "stream",
          "name": "stdout",
          "text": [
            "['Himachal Pradesh', 'Uttar Pradesh', 'Delhi', 'Denmark', 'Chennai']\n",
            "[20, 40, 60]\n"
          ]
        }
      ]
    },
    {
      "cell_type": "code",
      "source": [
        "dict_data = {}\n",
        "dict_data['pet'] = []\n",
        "dict_data['pet'].append({\n",
        "    'name': 'Dog',\n",
        "    'website': 'doggy.com',\n",
        "    'from': 'England'\n",
        "})\n",
        "dict_data['pet'].append({\n",
        "    'name' : 'Tiger',\n",
        "    'website': 'Tigo.com',\n",
        "    'from': 'Australia'\n",
        "})\n",
        "print(dict_data)\n",
        "print(type(dict_data))"
      ],
      "metadata": {
        "id": "nhP8AzjzrVwi",
        "outputId": "107c1d08-d671-43b6-9761-11f2b144a983",
        "colab": {
          "base_uri": "https://localhost:8080/"
        }
      },
      "execution_count": null,
      "outputs": [
        {
          "output_type": "stream",
          "name": "stdout",
          "text": [
            "{'pet': [{'name': 'Dog', 'website': 'doggy.com', 'from': 'England'}, {'name': 'Tiger', 'website': 'Tigo.com', 'from': 'Australia'}]}\n",
            "<class 'dict'>\n"
          ]
        }
      ]
    },
    {
      "cell_type": "code",
      "source": [
        "dict_course ={'Sub':'English','Topic':'Grammar','Level':'Easy'}\n",
        "print(dict_course)\n",
        "print(type(dict_course))"
      ],
      "metadata": {
        "id": "CuYYMGb7t1el",
        "outputId": "45146bff-7892-4b08-c968-ac9da95bc80c",
        "colab": {
          "base_uri": "https://localhost:8080/"
        }
      },
      "execution_count": null,
      "outputs": [
        {
          "output_type": "stream",
          "name": "stdout",
          "text": [
            "{'Sub': 'English', 'Topic': 'Grammar', 'Level': 'Easy'}\n",
            "<class 'dict'>\n"
          ]
        }
      ]
    },
    {
      "cell_type": "code",
      "source": [
        "print(dict_course['Sub'])"
      ],
      "metadata": {
        "id": "z4GQJ53tuqde",
        "outputId": "2d33cdf9-0383-4ae5-f022-3f1b45f63c91",
        "colab": {
          "base_uri": "https://localhost:8080/"
        }
      },
      "execution_count": null,
      "outputs": [
        {
          "output_type": "stream",
          "name": "stdout",
          "text": [
            "English\n"
          ]
        }
      ]
    },
    {
      "cell_type": "code",
      "source": [
        "for key, value in dict_course.items():\n",
        "  print(value)"
      ],
      "metadata": {
        "id": "iboGjxe8u6YI",
        "outputId": "7d601e42-02af-46c8-ae0b-f46bee007f5b",
        "colab": {
          "base_uri": "https://localhost:8080/"
        }
      },
      "execution_count": null,
      "outputs": [
        {
          "output_type": "stream",
          "name": "stdout",
          "text": [
            "English\n",
            "Grammar\n",
            "Easy\n"
          ]
        }
      ]
    },
    {
      "cell_type": "code",
      "source": [
        "lst_pet_types = [\"Dog\", \"Tiger\", \"Elephant\"]\n",
        "c_pet_types = len(lst_pet_types)\n",
        "print(f\"# pet types: {c_pet_types}\")\n",
        "dict_pets = {\"name\": \"Dog\", \"age\": 2}\n",
        "c_pets = len(dict_pets)\n",
        "print(f\"# pets: {c_pets}\")\n",
        "dict_pets = {\"pets\": [{\"name\": \"Dog\", \"age\": 2}, {\"name\": \"Dog\", \"age\": 2}]}\n",
        "dict_p_h = {\"pets\": [{\"name\": \"Dog\", \"age\": 2}, {\"name\": \"Dog\", \"age\": 2}],\n",
        "            \"persons\": [{\"name\": \"Siva\", \"age\": 20}, {\"name\": \"Vasu\", \"age\": 14}]}\n",
        "c_pets, c_humans = len(dict_pets), len(dict_p_h)\n",
        "print(f\"# pets: {c_pets} ; # humans: {c_humans}\")\n",
        "lst_keys = [*dict_p_h]\n",
        "lst_values = [*dict_p_h.values()]\n",
        "print(f\"# keys: {len(lst_keys)} | # values: {len(lst_values)}\")\n",
        "print(f\"keys: {lst_keys} | values: {lst_values}\")"
      ],
      "metadata": {
        "id": "Je13nKR5vJ2q",
        "outputId": "5a3b94a3-fc34-4ac3-c773-723ad8d7d5e9",
        "colab": {
          "base_uri": "https://localhost:8080/"
        }
      },
      "execution_count": null,
      "outputs": [
        {
          "output_type": "stream",
          "name": "stdout",
          "text": [
            "# pet types: 3\n",
            "# pets: 2\n",
            "# pets: 1 ; # humans: 2\n",
            "# keys: 2 | # values: 2\n",
            "keys: ['pets', 'persons'] | values: [[{'name': 'Dog', 'age': 2}, {'name': 'Dog', 'age': 2}], [{'name': 'Siva', 'age': 20}, {'name': 'Vasu', 'age': 14}]]\n"
          ]
        }
      ]
    },
    {
      "cell_type": "code",
      "source": [
        "import csv"
      ],
      "metadata": {
        "id": "r2zMbSJ9Cyey"
      },
      "execution_count": null,
      "outputs": []
    },
    {
      "cell_type": "code",
      "source": [
        "import sys\n",
        "\n",
        "print(sys.version)"
      ],
      "metadata": {
        "colab": {
          "base_uri": "https://localhost:8080/"
        },
        "id": "lwh1gePGQsRB",
        "outputId": "49d7f038-d4f6-450e-d98c-7944678abff7"
      },
      "execution_count": null,
      "outputs": [
        {
          "output_type": "stream",
          "name": "stdout",
          "text": [
            "3.10.12 (main, Nov 20 2023, 15:14:05) [GCC 11.4.0]\n"
          ]
        }
      ]
    },
    {
      "cell_type": "code",
      "source": [
        "if 5 > 2:\n",
        "  print(\"Five is greater than two!\")"
      ],
      "metadata": {
        "colab": {
          "base_uri": "https://localhost:8080/"
        },
        "id": "VWXfEALeRCMT",
        "outputId": "7c34b767-de33-48e4-fb50-15781f506ef2"
      },
      "execution_count": null,
      "outputs": [
        {
          "output_type": "stream",
          "name": "stdout",
          "text": [
            "Five is greater than two!\n"
          ]
        }
      ]
    },
    {
      "cell_type": "code",
      "source": [
        "x = 24\n",
        "y = \"Good Morning Sam\"\n",
        "print(x)\n",
        "print(y)"
      ],
      "metadata": {
        "colab": {
          "base_uri": "https://localhost:8080/"
        },
        "id": "5Z3DWyBlRx_5",
        "outputId": "165780ed-6d0c-41e7-bc98-dfd555d8514c"
      },
      "execution_count": null,
      "outputs": [
        {
          "output_type": "stream",
          "name": "stdout",
          "text": [
            "24\n",
            "Good Morning Sam\n"
          ]
        }
      ]
    },
    {
      "cell_type": "code",
      "source": [
        "#print(\"Hello, World!\")\n",
        "print(\"Cheers, Mate!\")"
      ],
      "metadata": {
        "colab": {
          "base_uri": "https://localhost:8080/"
        },
        "id": "BwjsyHlOTehu",
        "outputId": "6e95042c-b305-40f5-97fb-6097ff52be6d"
      },
      "execution_count": null,
      "outputs": [
        {
          "output_type": "stream",
          "name": "stdout",
          "text": [
            "Cheers, Mate!\n"
          ]
        }
      ]
    },
    {
      "cell_type": "code",
      "source": [
        "#This is a coment\n",
        "#written in\n",
        "#more than just one line\n",
        "print(\"Good Evening!\")"
      ],
      "metadata": {
        "colab": {
          "base_uri": "https://localhost:8080/"
        },
        "id": "ZDiDmd_7Tzv8",
        "outputId": "756ca395-337f-41fa-f16e-fd595432fd3f"
      },
      "execution_count": null,
      "outputs": [
        {
          "output_type": "stream",
          "name": "stdout",
          "text": [
            "Good Evening!\n"
          ]
        }
      ]
    },
    {
      "cell_type": "code",
      "source": [
        "a = 24\n",
        "A = \"Sam\"\n",
        "#A will not overwrite a\n",
        "print(\"A\")"
      ],
      "metadata": {
        "colab": {
          "base_uri": "https://localhost:8080/"
        },
        "id": "oftq_16TVp5Y",
        "outputId": "458b40f6-af29-4ed0-ebd3-d3284d88d3e9"
      },
      "execution_count": null,
      "outputs": [
        {
          "output_type": "stream",
          "name": "stdout",
          "text": [
            "A\n"
          ]
        }
      ]
    },
    {
      "cell_type": "code",
      "source": [
        "myvar = \"Siva\"\n",
        "my_var = \"Sam\"\n",
        "_my_var = \"Shiva\"\n",
        "myVar = \"Vasu\"\n",
        "MYVAR = \"Vasu\"\n",
        "myvar2 = \"Samsiva2k4\""
      ],
      "metadata": {
        "id": "HmrrirpzWDfi"
      },
      "execution_count": null,
      "outputs": []
    },
    {
      "cell_type": "code",
      "source": [
        "x, y, z = \"Jackfruit\", \"Mango\", \"Guava\"\n",
        "print(x)\n",
        "print(y)\n",
        "print(z)"
      ],
      "metadata": {
        "colab": {
          "base_uri": "https://localhost:8080/"
        },
        "id": "qOQ57cAxXv6m",
        "outputId": "36383628-2694-4fd3-9bdc-13d1a6dea3ff"
      },
      "execution_count": null,
      "outputs": [
        {
          "output_type": "stream",
          "name": "stdout",
          "text": [
            "Jackfruit\n",
            "Mango\n",
            "Guava\n"
          ]
        }
      ]
    },
    {
      "cell_type": "code",
      "source": [
        "fruits = [\"Jackfruit\", \"Mango\", \"Guava\"]\n",
        "x, y, z = fruits\n",
        "print(x)\n",
        "print(z)\n",
        "print(y)"
      ],
      "metadata": {
        "colab": {
          "base_uri": "https://localhost:8080/"
        },
        "id": "JHfuXh5LYO0o",
        "outputId": "ef53baba-4469-44eb-81cc-c4000523d16a"
      },
      "execution_count": null,
      "outputs": [
        {
          "output_type": "stream",
          "name": "stdout",
          "text": [
            "Jackfruit\n",
            "Guava\n",
            "Mango\n"
          ]
        }
      ]
    },
    {
      "cell_type": "code",
      "source": [
        "x = \"Programming\"\n",
        "y = \"is\"\n",
        "z = \"easy to learn\"\n",
        "print(x, y, z)"
      ],
      "metadata": {
        "colab": {
          "base_uri": "https://localhost:8080/"
        },
        "id": "LE8uk30uYmVS",
        "outputId": "02a74c57-a07f-49d0-b3b1-5801b9ebd918"
      },
      "execution_count": null,
      "outputs": [
        {
          "output_type": "stream",
          "name": "stdout",
          "text": [
            "Programming is easy to learn\n"
          ]
        }
      ]
    },
    {
      "cell_type": "code",
      "source": [
        "x = \"Programming \"\n",
        "y = \"is \"\n",
        "z = \"so funny to learn\"\n",
        "print(x + y + z)"
      ],
      "metadata": {
        "colab": {
          "base_uri": "https://localhost:8080/"
        },
        "id": "OychRxoZZKrM",
        "outputId": "2e316955-7129-457b-b836-9529388962f3"
      },
      "execution_count": null,
      "outputs": [
        {
          "output_type": "stream",
          "name": "stdout",
          "text": [
            "Programming is so funny to learn\n"
          ]
        }
      ]
    },
    {
      "cell_type": "code",
      "source": [
        "x = 5\n",
        "y = 12\n",
        "print(x + y)"
      ],
      "metadata": {
        "colab": {
          "base_uri": "https://localhost:8080/"
        },
        "id": "mgjpDzPcZTaW",
        "outputId": "86c2fdec-e933-494e-84e0-71ca12a53230"
      },
      "execution_count": null,
      "outputs": [
        {
          "output_type": "stream",
          "name": "stdout",
          "text": [
            "17\n"
          ]
        }
      ]
    },
    {
      "cell_type": "code",
      "source": [
        "x = 24\n",
        "y = \"Sam\"\n",
        "print(x, y)"
      ],
      "metadata": {
        "colab": {
          "base_uri": "https://localhost:8080/"
        },
        "id": "wx5qopXcZqiV",
        "outputId": "24a89bc3-7556-40e6-d3f1-cb291e2bf49c"
      },
      "execution_count": null,
      "outputs": [
        {
          "output_type": "stream",
          "name": "stdout",
          "text": [
            "24 Sam\n"
          ]
        }
      ]
    },
    {
      "cell_type": "code",
      "source": [
        "x = \"beautifull\"\n",
        "\n",
        "def myfunc():\n",
        "  print(\"Python is \" + x)\n",
        "\n",
        "myfunc()"
      ],
      "metadata": {
        "colab": {
          "base_uri": "https://localhost:8080/"
        },
        "id": "GhhejRD_Z4Mk",
        "outputId": "d545e746-9f99-4dbf-c9a7-8900c8a139e3"
      },
      "execution_count": null,
      "outputs": [
        {
          "output_type": "stream",
          "name": "stdout",
          "text": [
            "Python is beautifull\n"
          ]
        }
      ]
    },
    {
      "cell_type": "code",
      "source": [
        "x = \"Beautifull\"\n",
        "\n",
        "def myfunc():\n",
        "  x = \"Fabulous\"\n",
        "  print(\"Python is \" + x)\n",
        "\n",
        "myfunc()\n",
        "\n",
        "print(\"Python is \" + x)"
      ],
      "metadata": {
        "colab": {
          "base_uri": "https://localhost:8080/"
        },
        "id": "dlEOoB1ZaGnX",
        "outputId": "6cee6a67-d450-46cb-b42a-befaf3ae3bca"
      },
      "execution_count": null,
      "outputs": [
        {
          "output_type": "stream",
          "name": "stdout",
          "text": [
            "Python is Fabulous\n",
            "Python is Beautifull\n"
          ]
        }
      ]
    },
    {
      "cell_type": "code",
      "source": [
        "x = \"Intelligent\"\n",
        "\n",
        "def myfunc():\n",
        "  global x\n",
        "  x = \"Fabulous\"\n",
        "\n",
        "myfunc()\n",
        "\n",
        "print(\"Python is \" + x)"
      ],
      "metadata": {
        "colab": {
          "base_uri": "https://localhost:8080/"
        },
        "id": "NU1XByYBamJI",
        "outputId": "4ec4f00b-519d-46a6-9b4a-30968f666e2d"
      },
      "execution_count": null,
      "outputs": [
        {
          "output_type": "stream",
          "name": "stdout",
          "text": [
            "Python is Fabulous\n"
          ]
        }
      ]
    },
    {
      "cell_type": "code",
      "source": [
        "Carname = \"Volvo\"\n",
        "print(Carname)"
      ],
      "metadata": {
        "colab": {
          "base_uri": "https://localhost:8080/"
        },
        "id": "lwwDhs4qbPYH",
        "outputId": "ec91c4bb-aea3-4f4a-bab7-aa2f7810dfae"
      },
      "execution_count": null,
      "outputs": [
        {
          "output_type": "stream",
          "name": "stdout",
          "text": [
            "Volvo\n"
          ]
        }
      ]
    },
    {
      "cell_type": "code",
      "source": [
        "x = 24\n",
        "print(type(x))"
      ],
      "metadata": {
        "colab": {
          "base_uri": "https://localhost:8080/"
        },
        "id": "kqyDe-IObrKV",
        "outputId": "27e55157-1f91-472d-8e25-a74727652cea"
      },
      "execution_count": null,
      "outputs": [
        {
          "output_type": "stream",
          "name": "stdout",
          "text": [
            "<class 'int'>\n"
          ]
        }
      ]
    },
    {
      "cell_type": "code",
      "source": [
        "x = \"Sam Siva 2k4\"\n",
        "print(type(x))\n",
        "print(x)"
      ],
      "metadata": {
        "colab": {
          "base_uri": "https://localhost:8080/"
        },
        "id": "b-ztN1cNcnWs",
        "outputId": "0cf59d02-f84b-48c6-d24c-34c7568f05d3"
      },
      "execution_count": null,
      "outputs": [
        {
          "output_type": "stream",
          "name": "stdout",
          "text": [
            "<class 'str'>\n",
            "Sam Siva 2k4\n"
          ]
        }
      ]
    },
    {
      "cell_type": "code",
      "source": [
        "a = 24\n",
        "b = 534.32\n",
        "c = 1j\n",
        "print(type(a))\n",
        "print(type(b))\n",
        "print(type(c))"
      ],
      "metadata": {
        "id": "Oa1VYc-bdxQD",
        "outputId": "fa2f27c5-b058-421f-d103-0685166705c1",
        "colab": {
          "base_uri": "https://localhost:8080/"
        }
      },
      "execution_count": null,
      "outputs": [
        {
          "output_type": "stream",
          "name": "stdout",
          "text": [
            "<class 'int'>\n",
            "<class 'float'>\n",
            "<class 'complex'>\n"
          ]
        }
      ]
    },
    {
      "cell_type": "code",
      "source": [
        "a = (type(24.00))\n",
        "print(a)\n",
        "x = \"Sam\"\n",
        "print(x)"
      ],
      "metadata": {
        "id": "5JfeED4NgLZ-",
        "outputId": "373a1a85-2ae7-4ae5-acdd-7ed8c40e7925",
        "colab": {
          "base_uri": "https://localhost:8080/"
        }
      },
      "execution_count": null,
      "outputs": [
        {
          "output_type": "stream",
          "name": "stdout",
          "text": [
            "<class 'float'>\n",
            "Sam\n"
          ]
        }
      ]
    },
    {
      "cell_type": "code",
      "source": [
        "dict_data = {}\n",
        "dict_data['pet'] = []\n",
        "dict_data['pet'].append({\n",
        "    'name': 'Dog',\n",
        "    'website': 'doggy.com',\n",
        "    'from': 'England'\n",
        "})\n",
        "dict_data['pet'].append({\n",
        "    'name': 'Tiger',\n",
        "    'website': 'Tigo.com',\n",
        "    'from': 'India'\n",
        "})\n",
        "\n",
        "for key, value in dict_data.items():\n",
        "  print(key, \": \", value)\n",
        "\n",
        "pet : [{'name': 'Dog', 'website': 'doggy.com', 'from': 'England'}]\n",
        "\n",
        "import json\n",
        "\n",
        "print(json.dumps(dict_data, indent=4))\n"
      ],
      "metadata": {
        "id": "xZ1kf67nMBrA",
        "colab": {
          "base_uri": "https://localhost:8080/"
        },
        "outputId": "86758f9b-b66c-4440-9910-ea89745e58bc"
      },
      "execution_count": null,
      "outputs": [
        {
          "output_type": "stream",
          "name": "stdout",
          "text": [
            "pet :  [{'name': 'Dog', 'website': 'doggy.com', 'from': 'England'}, {'name': 'Tiger', 'website': 'Tigo.com', 'from': 'India'}]\n",
            "{\n",
            "    \"pet\": [\n",
            "        {\n",
            "            \"name\": \"Dog\",\n",
            "            \"website\": \"doggy.com\",\n",
            "            \"from\": \"England\"\n",
            "        },\n",
            "        {\n",
            "            \"name\": \"Tiger\",\n",
            "            \"website\": \"Tigo.com\",\n",
            "            \"from\": \"India\"\n",
            "        }\n",
            "    ]\n",
            "}\n"
          ]
        }
      ]
    },
    {
      "cell_type": "code",
      "source": [
        "dict_la ={'sub': 'English','topic': 'Grammar','Level': 'Difficult'}\n",
        "print(dict_la)\n",
        "print(type(dict_la))"
      ],
      "metadata": {
        "colab": {
          "base_uri": "https://localhost:8080/"
        },
        "id": "-0_p88TCN3Dl",
        "outputId": "ef52c5fa-42fc-4b5d-afa7-80c3668c8eaf"
      },
      "execution_count": null,
      "outputs": [
        {
          "output_type": "stream",
          "name": "stdout",
          "text": [
            "{'sub': 'English', 'topic': 'Grammar', 'Level': 'Difficult'}\n",
            "<class 'dict'>\n"
          ]
        }
      ]
    },
    {
      "cell_type": "code",
      "source": [
        "for key, value in dict_la.items():\n",
        "  print(value)"
      ],
      "metadata": {
        "colab": {
          "base_uri": "https://localhost:8080/"
        },
        "id": "9Fs2aCrGOPVc",
        "outputId": "da18233c-da53-408e-c54b-ef2383f52e6b"
      },
      "execution_count": null,
      "outputs": [
        {
          "output_type": "stream",
          "name": "stdout",
          "text": [
            "English\n",
            "Grammar\n",
            "Difficult\n"
          ]
        }
      ]
    },
    {
      "cell_type": "code",
      "source": [
        "print(key,':',value)"
      ],
      "metadata": {
        "colab": {
          "base_uri": "https://localhost:8080/"
        },
        "id": "kGF4v3onOZma",
        "outputId": "34f2ee8d-670e-4617-ca23-2d89ee4e9ba5"
      },
      "execution_count": null,
      "outputs": [
        {
          "output_type": "stream",
          "name": "stdout",
          "text": [
            "Level : Difficult\n"
          ]
        }
      ]
    },
    {
      "cell_type": "code",
      "source": [
        "for key, value in dict_la.items():\n",
        "  print(key, ':',value)"
      ],
      "metadata": {
        "colab": {
          "base_uri": "https://localhost:8080/"
        },
        "id": "R6QtxucAOdgb",
        "outputId": "0c4ac408-f068-4216-867a-16f7cbd37bed"
      },
      "execution_count": null,
      "outputs": [
        {
          "output_type": "stream",
          "name": "stdout",
          "text": [
            "sub : English\n",
            "topic : Grammar\n",
            "Level : Difficult\n"
          ]
        }
      ]
    },
    {
      "cell_type": "code",
      "source": [
        "print(json.dumps(dict_la))"
      ],
      "metadata": {
        "colab": {
          "base_uri": "https://localhost:8080/"
        },
        "id": "fAfBaVyzPH6N",
        "outputId": "8781a409-f381-4b8f-dffa-007f80f940a7"
      },
      "execution_count": null,
      "outputs": [
        {
          "output_type": "stream",
          "name": "stdout",
          "text": [
            "{\"sub\": \"English\", \"topic\": \"Grammar\", \"Level\": \"Difficult\"}\n"
          ]
        }
      ]
    },
    {
      "cell_type": "markdown",
      "source": [
        "num_person = 10\n",
        "print(f\"Type of num_person: {type(num_person)}\")"
      ],
      "metadata": {
        "id": "iZ6zBpxRSPxM"
      }
    },
    {
      "cell_type": "code",
      "source": [
        "from tabulate import tabulate\n",
        "def pretty_print(title, df, n):\n",
        "  print(f\"\\n{title}\")\n",
        "  print(tabulate(df.head(n), headers=\"keys\", tablefmt=\"psql\"))"
      ],
      "metadata": {
        "id": "PRLCAZPWTN7r"
      },
      "execution_count": 12,
      "outputs": []
    },
    {
      "cell_type": "code",
      "source": [],
      "metadata": {
        "id": "Cu5RL8QQVJUg"
      },
      "execution_count": null,
      "outputs": []
    }
  ]
}