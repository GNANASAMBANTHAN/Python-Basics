{
  "nbformat": 4,
  "nbformat_minor": 0,
  "metadata": {
    "colab": {
      "provenance": [],
      "include_colab_link": true
    },
    "kernelspec": {
      "name": "python3",
      "display_name": "Python 3"
    },
    "language_info": {
      "name": "python"
    }
  },
  "cells": [
    {
      "cell_type": "markdown",
      "metadata": {
        "id": "view-in-github",
        "colab_type": "text"
      },
      "source": [
        "<a href=\"https://colab.research.google.com/github/GNANASAMBANTHAN/Python-Basics/blob/main/Python1.ipynb\" target=\"_parent\"><img src=\"https://colab.research.google.com/assets/colab-badge.svg\" alt=\"Open In Colab\"/></a>"
      ]
    },
    {
      "cell_type": "code",
      "source": [
        "print('Hello World!')"
      ],
      "metadata": {
        "colab": {
          "base_uri": "https://localhost:8080/"
        },
        "id": "A4xQJY8edXIB",
        "outputId": "5f1d6b40-d2d3-4936-d9b8-ed7fdaf4ff50"
      },
      "execution_count": null,
      "outputs": [
        {
          "output_type": "stream",
          "name": "stdout",
          "text": [
            "Hello World!\n"
          ]
        }
      ]
    },
    {
      "cell_type": "code",
      "source": [
        "a=56\n",
        "b=45\n",
        "print(a+b)"
      ],
      "metadata": {
        "colab": {
          "base_uri": "https://localhost:8080/"
        },
        "id": "Q80nL9HLdbM4",
        "outputId": "30643d21-9d0b-4ff9-dd64-65e7a7023b26"
      },
      "execution_count": null,
      "outputs": [
        {
          "output_type": "stream",
          "name": "stdout",
          "text": [
            "101\n"
          ]
        }
      ]
    },
    {
      "cell_type": "code",
      "source": [
        "print(type(b))"
      ],
      "metadata": {
        "colab": {
          "base_uri": "https://localhost:8080/"
        },
        "id": "itH_W2mMd-M1",
        "outputId": "17a08f4a-d6c1-48be-e393-4158c06e8317"
      },
      "execution_count": null,
      "outputs": [
        {
          "output_type": "stream",
          "name": "stdout",
          "text": [
            "<class 'int'>\n"
          ]
        }
      ]
    },
    {
      "cell_type": "code",
      "source": [
        "if 5 > 2:\n",
        "  print(\"Five is greater than two!\")\n",
        "else:\n",
        "  print(\"Five is less than two!\")"
      ],
      "metadata": {
        "colab": {
          "base_uri": "https://localhost:8080/"
        },
        "id": "fjHF0UlEeYWi",
        "outputId": "a94c4d8f-6129-42e4-cea7-37a5c103a620"
      },
      "execution_count": null,
      "outputs": [
        {
          "output_type": "stream",
          "name": "stdout",
          "text": [
            "Five is greater than two!\n"
          ]
        }
      ]
    },
    {
      "cell_type": "code",
      "source": [
        "if 24 < 48:\n",
        "  print(\"24 is less than 48\")\n",
        "else:\n",
        "  print(\"24 is greater than 48\")"
      ],
      "metadata": {
        "id": "lK-ETGdTedaT",
        "outputId": "95412610-33bc-43f2-d2fa-a0e9817dad1d",
        "colab": {
          "base_uri": "https://localhost:8080/"
        }
      },
      "execution_count": null,
      "outputs": [
        {
          "output_type": "stream",
          "name": "stdout",
          "text": [
            "24 is less than 48\n"
          ]
        }
      ]
    },
    {
      "cell_type": "code",
      "source": [
        "a = \"\"\"Lorem ipsum dolor sit amet,\n",
        "consectetur adipiscing elit,\n",
        "sed do eiusmod tempor incididunt\n",
        "ut labore et dolore magna aliqua.\"\"\"\n",
        "print(a)"
      ],
      "metadata": {
        "colab": {
          "base_uri": "https://localhost:8080/"
        },
        "id": "xNf83dN8eozV",
        "outputId": "83c3932c-f291-4dbb-a4f9-1b9b1c22d5f1"
      },
      "execution_count": null,
      "outputs": [
        {
          "output_type": "stream",
          "name": "stdout",
          "text": [
            "Lorem ipsum dolor sit amet,\n",
            "consectetur adipiscing elit,\n",
            "sed do eiusmod tempor incididunt\n",
            "ut labore et dolore magna aliqua.\n"
          ]
        }
      ]
    },
    {
      "cell_type": "code",
      "source": [
        "a = \"\"\"Sam is a handsome boy\"\"\"\n",
        "print(a)"
      ],
      "metadata": {
        "id": "B2dzVR-newso",
        "outputId": "ad006c2c-b737-4bd5-9b28-dd3bd35a6bda",
        "colab": {
          "base_uri": "https://localhost:8080/"
        }
      },
      "execution_count": null,
      "outputs": [
        {
          "output_type": "stream",
          "name": "stdout",
          "text": [
            "Sam is a handsome boy\n"
          ]
        }
      ]
    },
    {
      "cell_type": "code",
      "source": [
        "a = \"\"\"Sam has 5 apples and 3 guaava\"\"\"\n",
        "print(a)"
      ],
      "metadata": {
        "id": "7URCMnH_e5iF",
        "outputId": "aceede86-8782-40fc-8ae6-360b0056849e",
        "colab": {
          "base_uri": "https://localhost:8080/"
        }
      },
      "execution_count": null,
      "outputs": [
        {
          "output_type": "stream",
          "name": "stdout",
          "text": [
            "Sam has 5 apples and 3 guaava\n"
          ]
        }
      ]
    },
    {
      "cell_type": "code",
      "source": [
        "a = \"\"\"10.05.2004\"\"\"\n",
        "print(a)"
      ],
      "metadata": {
        "id": "b9O0wA0WfG3I",
        "outputId": "f28f27a0-093a-4ffd-e753-3bc3567631b6",
        "colab": {
          "base_uri": "https://localhost:8080/"
        }
      },
      "execution_count": null,
      "outputs": [
        {
          "output_type": "stream",
          "name": "stdout",
          "text": [
            "10.05.2004\n"
          ]
        }
      ]
    },
    {
      "cell_type": "code",
      "source": [
        "myset = {\"apple\", \"banana\", \"cherry\"}\n",
        "print(myset)"
      ],
      "metadata": {
        "colab": {
          "base_uri": "https://localhost:8080/"
        },
        "id": "OYhDVjzOe2NN",
        "outputId": "0d662ca2-efc0-4db7-a325-f7711b0dfd10"
      },
      "execution_count": null,
      "outputs": [
        {
          "output_type": "stream",
          "name": "stdout",
          "text": [
            "{'apple', 'banana', 'cherry'}\n"
          ]
        }
      ]
    },
    {
      "cell_type": "code",
      "source": [
        "print(type(myset))"
      ],
      "metadata": {
        "colab": {
          "base_uri": "https://localhost:8080/"
        },
        "id": "Cc_3kP9Ge7UY",
        "outputId": "37cbaae1-b335-4942-ab2f-1ffea60aa4d2"
      },
      "execution_count": null,
      "outputs": [
        {
          "output_type": "stream",
          "name": "stdout",
          "text": [
            "<class 'set'>\n"
          ]
        }
      ]
    },
    {
      "cell_type": "code",
      "source": [
        "import pandas as pd"
      ],
      "metadata": {
        "id": "qTMT7NMU1PE_"
      },
      "execution_count": null,
      "outputs": []
    },
    {
      "cell_type": "code",
      "source": [
        "from tabulate import tabulate"
      ],
      "metadata": {
        "id": "ev0mT6rB125W"
      },
      "execution_count": null,
      "outputs": []
    },
    {
      "cell_type": "code",
      "source": [
        "import traceback"
      ],
      "metadata": {
        "id": "RxJi_jCr1-rk"
      },
      "execution_count": null,
      "outputs": []
    },
    {
      "cell_type": "code",
      "source": [
        "import numpy as np"
      ],
      "metadata": {
        "id": "ugJybMtv2Nwe"
      },
      "execution_count": null,
      "outputs": []
    },
    {
      "cell_type": "code",
      "source": [
        "import matplotlib.pyplot as plt"
      ],
      "metadata": {
        "id": "dvi9twX02dzV"
      },
      "execution_count": null,
      "outputs": []
    },
    {
      "cell_type": "code",
      "source": [
        "from requests import get"
      ],
      "metadata": {
        "id": "iGrvt18n2jDw"
      },
      "execution_count": null,
      "outputs": []
    },
    {
      "cell_type": "code",
      "source": [
        "import requests"
      ],
      "metadata": {
        "id": "m8qzglFi2psH"
      },
      "execution_count": null,
      "outputs": []
    },
    {
      "cell_type": "code",
      "source": [
        "import os"
      ],
      "metadata": {
        "id": "AGVFSwSo2tUg"
      },
      "execution_count": null,
      "outputs": []
    },
    {
      "cell_type": "code",
      "source": [
        "a=26\n",
        "b=76\n",
        "c=(a*b)\n",
        "print(c)"
      ],
      "metadata": {
        "colab": {
          "base_uri": "https://localhost:8080/"
        },
        "id": "Wj4YN2vE3Omd",
        "outputId": "76b6dc8b-45d7-4170-a782-c6375013b4e5"
      },
      "execution_count": null,
      "outputs": [
        {
          "output_type": "stream",
          "name": "stdout",
          "text": [
            "1976\n"
          ]
        }
      ]
    },
    {
      "cell_type": "code",
      "source": [
        "lst_names = []\n",
        "lst_cities = [\"Bangalore\",\"Chennai\", \"SFO\", \"Beijing\"]\n",
        "lst_cities.append(\"NYC\")\n",
        "lst_age = [10,20]\n",
        "lst_age.append(30)\n",
        "for val in lst_cities:\n",
        "  print(val)\n",
        "if \"SFO\" in lst_cities:\n",
        "  print(\"yes\")\n",
        "else:\n",
        "  print(\"no\")"
      ],
      "metadata": {
        "colab": {
          "base_uri": "https://localhost:8080/"
        },
        "id": "zs31thnv3kRj",
        "outputId": "c979a1db-ddba-464e-b20c-621e9d9946a7"
      },
      "execution_count": null,
      "outputs": [
        {
          "output_type": "stream",
          "name": "stdout",
          "text": [
            "Bangalore\n",
            "Chennai\n",
            "SFO\n",
            "Beijing\n",
            "NYC\n",
            "yes\n"
          ]
        }
      ]
    },
    {
      "cell_type": "code",
      "source": [
        "set_names = ()\n",
        "set_cities = [\"Himachal Pradesh\",\"Uttar Pradesh\",\"Delhi\",\"Denmark\"]\n",
        "set_cities.append(\"Chennai\")\n",
        "set_age = [20,40]\n",
        "set_age.append(60)\n",
        "print(set_cities)\n",
        "print(set_age)"
      ],
      "metadata": {
        "colab": {
          "base_uri": "https://localhost:8080/"
        },
        "id": "cFUH-CF--cR6",
        "outputId": "b38666b7-420d-45d1-e875-2fb8f01d254c"
      },
      "execution_count": null,
      "outputs": [
        {
          "output_type": "stream",
          "name": "stdout",
          "text": [
            "['Himachal Pradesh', 'Uttar Pradesh', 'Delhi', 'Denmark', 'Chennai']\n",
            "[20, 40, 60]\n"
          ]
        }
      ]
    },
    {
      "cell_type": "code",
      "source": [
        "dict_data = {}\n",
        "dict_data['pet'] = []\n",
        "dict_data['pet'].append({\n",
        "    'name': 'Dog',\n",
        "    'website': 'doggy.com',\n",
        "    'from': 'England'\n",
        "})\n",
        "dict_data['pet'].append({\n",
        "    'name' : 'Tiger',\n",
        "    'website': 'Tigo.com',\n",
        "    'from': 'Australia'\n",
        "})\n",
        "print(dict_data)\n",
        "print(type(dict_data))"
      ],
      "metadata": {
        "id": "nhP8AzjzrVwi",
        "outputId": "107c1d08-d671-43b6-9761-11f2b144a983",
        "colab": {
          "base_uri": "https://localhost:8080/"
        }
      },
      "execution_count": null,
      "outputs": [
        {
          "output_type": "stream",
          "name": "stdout",
          "text": [
            "{'pet': [{'name': 'Dog', 'website': 'doggy.com', 'from': 'England'}, {'name': 'Tiger', 'website': 'Tigo.com', 'from': 'Australia'}]}\n",
            "<class 'dict'>\n"
          ]
        }
      ]
    },
    {
      "cell_type": "code",
      "source": [
        "dict_course ={'Sub':'English','Topic':'Grammar','Level':'Easy'}\n",
        "print(dict_course)\n",
        "print(type(dict_course))"
      ],
      "metadata": {
        "id": "CuYYMGb7t1el",
        "outputId": "45146bff-7892-4b08-c968-ac9da95bc80c",
        "colab": {
          "base_uri": "https://localhost:8080/"
        }
      },
      "execution_count": null,
      "outputs": [
        {
          "output_type": "stream",
          "name": "stdout",
          "text": [
            "{'Sub': 'English', 'Topic': 'Grammar', 'Level': 'Easy'}\n",
            "<class 'dict'>\n"
          ]
        }
      ]
    },
    {
      "cell_type": "code",
      "source": [
        "print(dict_course['Sub'])"
      ],
      "metadata": {
        "id": "z4GQJ53tuqde",
        "outputId": "2d33cdf9-0383-4ae5-f022-3f1b45f63c91",
        "colab": {
          "base_uri": "https://localhost:8080/"
        }
      },
      "execution_count": null,
      "outputs": [
        {
          "output_type": "stream",
          "name": "stdout",
          "text": [
            "English\n"
          ]
        }
      ]
    },
    {
      "cell_type": "code",
      "source": [
        "for key, value in dict_course.items():\n",
        "  print(value)"
      ],
      "metadata": {
        "id": "iboGjxe8u6YI",
        "outputId": "7d601e42-02af-46c8-ae0b-f46bee007f5b",
        "colab": {
          "base_uri": "https://localhost:8080/"
        }
      },
      "execution_count": null,
      "outputs": [
        {
          "output_type": "stream",
          "name": "stdout",
          "text": [
            "English\n",
            "Grammar\n",
            "Easy\n"
          ]
        }
      ]
    },
    {
      "cell_type": "code",
      "source": [
        "lst_pet_types = [\"Dog\", \"Tiger\", \"Elephant\"]\n",
        "c_pet_types = len(lst_pet_types)\n",
        "print(f\"# pet types: {c_pet_types}\")\n",
        "dict_pets = {\"name\": \"Dog\", \"age\": 2}\n",
        "c_pets = len(dict_pets)\n",
        "print(f\"# pets: {c_pets}\")\n",
        "dict_pets = {\"pets\": [{\"name\": \"Dog\", \"age\": 2}, {\"name\": \"Dog\", \"age\": 2}]}\n",
        "dict_p_h = {\"pets\": [{\"name\": \"Dog\", \"age\": 2}, {\"name\": \"Dog\", \"age\": 2}],\n",
        "            \"persons\": [{\"name\": \"Siva\", \"age\": 20}, {\"name\": \"Vasu\", \"age\": 14}]}\n",
        "c_pets, c_humans = len(dict_pets), len(dict_p_h)\n",
        "print(f\"# pets: {c_pets} ; # humans: {c_humans}\")\n",
        "lst_keys = [*dict_p_h]\n",
        "lst_values = [*dict_p_h.values()]\n",
        "print(f\"# keys: {len(lst_keys)} | # values: {len(lst_values)}\")\n",
        "print(f\"keys: {lst_keys} | values: {lst_values}\")"
      ],
      "metadata": {
        "id": "Je13nKR5vJ2q",
        "outputId": "5a3b94a3-fc34-4ac3-c773-723ad8d7d5e9",
        "colab": {
          "base_uri": "https://localhost:8080/"
        }
      },
      "execution_count": null,
      "outputs": [
        {
          "output_type": "stream",
          "name": "stdout",
          "text": [
            "# pet types: 3\n",
            "# pets: 2\n",
            "# pets: 1 ; # humans: 2\n",
            "# keys: 2 | # values: 2\n",
            "keys: ['pets', 'persons'] | values: [[{'name': 'Dog', 'age': 2}, {'name': 'Dog', 'age': 2}], [{'name': 'Siva', 'age': 20}, {'name': 'Vasu', 'age': 14}]]\n"
          ]
        }
      ]
    },
    {
      "cell_type": "code",
      "source": [
        "import csv"
      ],
      "metadata": {
        "id": "r2zMbSJ9Cyey"
      },
      "execution_count": null,
      "outputs": []
    },
    {
      "cell_type": "code",
      "source": [
        "import sys\n",
        "\n",
        "print(sys.version)"
      ],
      "metadata": {
        "colab": {
          "base_uri": "https://localhost:8080/"
        },
        "id": "lwh1gePGQsRB",
        "outputId": "49d7f038-d4f6-450e-d98c-7944678abff7"
      },
      "execution_count": null,
      "outputs": [
        {
          "output_type": "stream",
          "name": "stdout",
          "text": [
            "3.10.12 (main, Nov 20 2023, 15:14:05) [GCC 11.4.0]\n"
          ]
        }
      ]
    },
    {
      "cell_type": "code",
      "source": [
        "if 5 > 2:\n",
        "  print(\"Five is greater than two!\")"
      ],
      "metadata": {
        "colab": {
          "base_uri": "https://localhost:8080/"
        },
        "id": "VWXfEALeRCMT",
        "outputId": "7c34b767-de33-48e4-fb50-15781f506ef2"
      },
      "execution_count": null,
      "outputs": [
        {
          "output_type": "stream",
          "name": "stdout",
          "text": [
            "Five is greater than two!\n"
          ]
        }
      ]
    },
    {
      "cell_type": "code",
      "source": [
        "x = 24\n",
        "y = \"Good Morning Sam\"\n",
        "print(x)\n",
        "print(y)"
      ],
      "metadata": {
        "colab": {
          "base_uri": "https://localhost:8080/"
        },
        "id": "5Z3DWyBlRx_5",
        "outputId": "165780ed-6d0c-41e7-bc98-dfd555d8514c"
      },
      "execution_count": null,
      "outputs": [
        {
          "output_type": "stream",
          "name": "stdout",
          "text": [
            "24\n",
            "Good Morning Sam\n"
          ]
        }
      ]
    },
    {
      "cell_type": "code",
      "source": [
        "#print(\"Hello, World!\")\n",
        "print(\"Cheers, Mate!\")"
      ],
      "metadata": {
        "colab": {
          "base_uri": "https://localhost:8080/"
        },
        "id": "BwjsyHlOTehu",
        "outputId": "6e95042c-b305-40f5-97fb-6097ff52be6d"
      },
      "execution_count": null,
      "outputs": [
        {
          "output_type": "stream",
          "name": "stdout",
          "text": [
            "Cheers, Mate!\n"
          ]
        }
      ]
    },
    {
      "cell_type": "code",
      "source": [
        "#This is a coment\n",
        "#written in\n",
        "#more than just one line\n",
        "print(\"Good Evening!\")"
      ],
      "metadata": {
        "colab": {
          "base_uri": "https://localhost:8080/"
        },
        "id": "ZDiDmd_7Tzv8",
        "outputId": "756ca395-337f-41fa-f16e-fd595432fd3f"
      },
      "execution_count": null,
      "outputs": [
        {
          "output_type": "stream",
          "name": "stdout",
          "text": [
            "Good Evening!\n"
          ]
        }
      ]
    },
    {
      "cell_type": "code",
      "source": [
        "a = 24\n",
        "A = \"Sam\"\n",
        "#A will not overwrite a\n",
        "print(\"A\")"
      ],
      "metadata": {
        "colab": {
          "base_uri": "https://localhost:8080/"
        },
        "id": "oftq_16TVp5Y",
        "outputId": "458b40f6-af29-4ed0-ebd3-d3284d88d3e9"
      },
      "execution_count": null,
      "outputs": [
        {
          "output_type": "stream",
          "name": "stdout",
          "text": [
            "A\n"
          ]
        }
      ]
    },
    {
      "cell_type": "code",
      "source": [
        "myvar = \"Siva\"\n",
        "my_var = \"Sam\"\n",
        "_my_var = \"Shiva\"\n",
        "myVar = \"Vasu\"\n",
        "MYVAR = \"Vasu\"\n",
        "myvar2 = \"Samsiva2k4\""
      ],
      "metadata": {
        "id": "HmrrirpzWDfi"
      },
      "execution_count": null,
      "outputs": []
    },
    {
      "cell_type": "code",
      "source": [
        "x, y, z = \"Jackfruit\", \"Mango\", \"Guava\"\n",
        "print(x)\n",
        "print(y)\n",
        "print(z)"
      ],
      "metadata": {
        "colab": {
          "base_uri": "https://localhost:8080/"
        },
        "id": "qOQ57cAxXv6m",
        "outputId": "36383628-2694-4fd3-9bdc-13d1a6dea3ff"
      },
      "execution_count": null,
      "outputs": [
        {
          "output_type": "stream",
          "name": "stdout",
          "text": [
            "Jackfruit\n",
            "Mango\n",
            "Guava\n"
          ]
        }
      ]
    },
    {
      "cell_type": "code",
      "source": [
        "fruits = [\"Jackfruit\", \"Mango\", \"Guava\"]\n",
        "x, y, z = fruits\n",
        "print(x)\n",
        "print(z)\n",
        "print(y)"
      ],
      "metadata": {
        "colab": {
          "base_uri": "https://localhost:8080/"
        },
        "id": "JHfuXh5LYO0o",
        "outputId": "ef53baba-4469-44eb-81cc-c4000523d16a"
      },
      "execution_count": null,
      "outputs": [
        {
          "output_type": "stream",
          "name": "stdout",
          "text": [
            "Jackfruit\n",
            "Guava\n",
            "Mango\n"
          ]
        }
      ]
    },
    {
      "cell_type": "code",
      "source": [
        "x = \"Programming\"\n",
        "y = \"is\"\n",
        "z = \"easy to learn\"\n",
        "print(x, y, z)"
      ],
      "metadata": {
        "colab": {
          "base_uri": "https://localhost:8080/"
        },
        "id": "LE8uk30uYmVS",
        "outputId": "02a74c57-a07f-49d0-b3b1-5801b9ebd918"
      },
      "execution_count": null,
      "outputs": [
        {
          "output_type": "stream",
          "name": "stdout",
          "text": [
            "Programming is easy to learn\n"
          ]
        }
      ]
    },
    {
      "cell_type": "code",
      "source": [
        "x = \"Programming \"\n",
        "y = \"is \"\n",
        "z = \"so funny to learn\"\n",
        "print(x + y + z)"
      ],
      "metadata": {
        "colab": {
          "base_uri": "https://localhost:8080/"
        },
        "id": "OychRxoZZKrM",
        "outputId": "2e316955-7129-457b-b836-9529388962f3"
      },
      "execution_count": null,
      "outputs": [
        {
          "output_type": "stream",
          "name": "stdout",
          "text": [
            "Programming is so funny to learn\n"
          ]
        }
      ]
    },
    {
      "cell_type": "code",
      "source": [
        "x = 5\n",
        "y = 12\n",
        "print(x + y)"
      ],
      "metadata": {
        "colab": {
          "base_uri": "https://localhost:8080/"
        },
        "id": "mgjpDzPcZTaW",
        "outputId": "86c2fdec-e933-494e-84e0-71ca12a53230"
      },
      "execution_count": null,
      "outputs": [
        {
          "output_type": "stream",
          "name": "stdout",
          "text": [
            "17\n"
          ]
        }
      ]
    },
    {
      "cell_type": "code",
      "source": [
        "x = 24\n",
        "y = \"Sam\"\n",
        "print(x, y)"
      ],
      "metadata": {
        "colab": {
          "base_uri": "https://localhost:8080/"
        },
        "id": "wx5qopXcZqiV",
        "outputId": "24a89bc3-7556-40e6-d3f1-cb291e2bf49c"
      },
      "execution_count": null,
      "outputs": [
        {
          "output_type": "stream",
          "name": "stdout",
          "text": [
            "24 Sam\n"
          ]
        }
      ]
    },
    {
      "cell_type": "code",
      "source": [
        "x = \"beautifull\"\n",
        "\n",
        "def myfunc():\n",
        "  print(\"Python is \" + x)\n",
        "\n",
        "myfunc()"
      ],
      "metadata": {
        "colab": {
          "base_uri": "https://localhost:8080/"
        },
        "id": "GhhejRD_Z4Mk",
        "outputId": "d545e746-9f99-4dbf-c9a7-8900c8a139e3"
      },
      "execution_count": null,
      "outputs": [
        {
          "output_type": "stream",
          "name": "stdout",
          "text": [
            "Python is beautifull\n"
          ]
        }
      ]
    },
    {
      "cell_type": "code",
      "source": [
        "x = \"Beautifull\"\n",
        "\n",
        "def myfunc():\n",
        "  x = \"Fabulous\"\n",
        "  print(\"Python is \" + x)\n",
        "\n",
        "myfunc()\n",
        "\n",
        "print(\"Python is \" + x)"
      ],
      "metadata": {
        "colab": {
          "base_uri": "https://localhost:8080/"
        },
        "id": "dlEOoB1ZaGnX",
        "outputId": "6cee6a67-d450-46cb-b42a-befaf3ae3bca"
      },
      "execution_count": null,
      "outputs": [
        {
          "output_type": "stream",
          "name": "stdout",
          "text": [
            "Python is Fabulous\n",
            "Python is Beautifull\n"
          ]
        }
      ]
    },
    {
      "cell_type": "code",
      "source": [
        "x = \"Intelligent\"\n",
        "\n",
        "def myfunc():\n",
        "  global x\n",
        "  x = \"Fabulous\"\n",
        "\n",
        "myfunc()\n",
        "\n",
        "print(\"Python is \" + x)"
      ],
      "metadata": {
        "colab": {
          "base_uri": "https://localhost:8080/"
        },
        "id": "NU1XByYBamJI",
        "outputId": "4ec4f00b-519d-46a6-9b4a-30968f666e2d"
      },
      "execution_count": null,
      "outputs": [
        {
          "output_type": "stream",
          "name": "stdout",
          "text": [
            "Python is Fabulous\n"
          ]
        }
      ]
    },
    {
      "cell_type": "code",
      "source": [
        "Carname = \"Volvo\"\n",
        "print(Carname)"
      ],
      "metadata": {
        "colab": {
          "base_uri": "https://localhost:8080/"
        },
        "id": "lwwDhs4qbPYH",
        "outputId": "ec91c4bb-aea3-4f4a-bab7-aa2f7810dfae"
      },
      "execution_count": null,
      "outputs": [
        {
          "output_type": "stream",
          "name": "stdout",
          "text": [
            "Volvo\n"
          ]
        }
      ]
    },
    {
      "cell_type": "code",
      "source": [
        "x = 24\n",
        "print(type(x))"
      ],
      "metadata": {
        "colab": {
          "base_uri": "https://localhost:8080/"
        },
        "id": "kqyDe-IObrKV",
        "outputId": "27e55157-1f91-472d-8e25-a74727652cea"
      },
      "execution_count": null,
      "outputs": [
        {
          "output_type": "stream",
          "name": "stdout",
          "text": [
            "<class 'int'>\n"
          ]
        }
      ]
    },
    {
      "cell_type": "code",
      "source": [
        "x = \"Sam Siva 2k4\"\n",
        "print(type(x))\n",
        "print(x)"
      ],
      "metadata": {
        "colab": {
          "base_uri": "https://localhost:8080/"
        },
        "id": "b-ztN1cNcnWs",
        "outputId": "0cf59d02-f84b-48c6-d24c-34c7568f05d3"
      },
      "execution_count": null,
      "outputs": [
        {
          "output_type": "stream",
          "name": "stdout",
          "text": [
            "<class 'str'>\n",
            "Sam Siva 2k4\n"
          ]
        }
      ]
    },
    {
      "cell_type": "code",
      "source": [
        "a = 24\n",
        "b = 534.32\n",
        "c = 1j\n",
        "print(type(a))\n",
        "print(type(b))\n",
        "print(type(c))"
      ],
      "metadata": {
        "id": "Oa1VYc-bdxQD",
        "outputId": "fa2f27c5-b058-421f-d103-0685166705c1",
        "colab": {
          "base_uri": "https://localhost:8080/"
        }
      },
      "execution_count": null,
      "outputs": [
        {
          "output_type": "stream",
          "name": "stdout",
          "text": [
            "<class 'int'>\n",
            "<class 'float'>\n",
            "<class 'complex'>\n"
          ]
        }
      ]
    },
    {
      "cell_type": "code",
      "source": [
        "a = (type(24.00))\n",
        "print(a)\n",
        "x = \"Sam\"\n",
        "print(x)"
      ],
      "metadata": {
        "id": "5JfeED4NgLZ-",
        "outputId": "373a1a85-2ae7-4ae5-acdd-7ed8c40e7925",
        "colab": {
          "base_uri": "https://localhost:8080/"
        }
      },
      "execution_count": null,
      "outputs": [
        {
          "output_type": "stream",
          "name": "stdout",
          "text": [
            "<class 'float'>\n",
            "Sam\n"
          ]
        }
      ]
    },
    {
      "cell_type": "code",
      "source": [
        "dict_data = {}\n",
        "dict_data['pet'] = []\n",
        "dict_data['pet'].append({\n",
        "    'name': 'Dog',\n",
        "    'website': 'doggy.com',\n",
        "    'from': 'England'\n",
        "})\n",
        "dict_data['pet'].append({\n",
        "    'name': 'Tiger',\n",
        "    'website': 'Tigo.com',\n",
        "    'from': 'India'\n",
        "})\n",
        "\n",
        "for key, value in dict_data.items():\n",
        "  print(key, \": \", value)\n",
        "\n",
        "pet : [{'name': 'Dog', 'website': 'doggy.com', 'from': 'England'}]\n",
        "\n",
        "import json\n",
        "\n",
        "print(json.dumps(dict_data, indent=4))\n"
      ],
      "metadata": {
        "id": "xZ1kf67nMBrA",
        "colab": {
          "base_uri": "https://localhost:8080/"
        },
        "outputId": "86758f9b-b66c-4440-9910-ea89745e58bc"
      },
      "execution_count": null,
      "outputs": [
        {
          "output_type": "stream",
          "name": "stdout",
          "text": [
            "pet :  [{'name': 'Dog', 'website': 'doggy.com', 'from': 'England'}, {'name': 'Tiger', 'website': 'Tigo.com', 'from': 'India'}]\n",
            "{\n",
            "    \"pet\": [\n",
            "        {\n",
            "            \"name\": \"Dog\",\n",
            "            \"website\": \"doggy.com\",\n",
            "            \"from\": \"England\"\n",
            "        },\n",
            "        {\n",
            "            \"name\": \"Tiger\",\n",
            "            \"website\": \"Tigo.com\",\n",
            "            \"from\": \"India\"\n",
            "        }\n",
            "    ]\n",
            "}\n"
          ]
        }
      ]
    },
    {
      "cell_type": "code",
      "source": [
        "dict_la ={'sub': 'English','topic': 'Grammar','Level': 'Difficult'}\n",
        "print(dict_la)\n",
        "print(type(dict_la))"
      ],
      "metadata": {
        "colab": {
          "base_uri": "https://localhost:8080/"
        },
        "id": "-0_p88TCN3Dl",
        "outputId": "ef52c5fa-42fc-4b5d-afa7-80c3668c8eaf"
      },
      "execution_count": null,
      "outputs": [
        {
          "output_type": "stream",
          "name": "stdout",
          "text": [
            "{'sub': 'English', 'topic': 'Grammar', 'Level': 'Difficult'}\n",
            "<class 'dict'>\n"
          ]
        }
      ]
    },
    {
      "cell_type": "code",
      "source": [
        "for key, value in dict_la.items():\n",
        "  print(value)"
      ],
      "metadata": {
        "colab": {
          "base_uri": "https://localhost:8080/"
        },
        "id": "9Fs2aCrGOPVc",
        "outputId": "da18233c-da53-408e-c54b-ef2383f52e6b"
      },
      "execution_count": null,
      "outputs": [
        {
          "output_type": "stream",
          "name": "stdout",
          "text": [
            "English\n",
            "Grammar\n",
            "Difficult\n"
          ]
        }
      ]
    },
    {
      "cell_type": "code",
      "source": [
        "print(key,':',value)"
      ],
      "metadata": {
        "colab": {
          "base_uri": "https://localhost:8080/"
        },
        "id": "kGF4v3onOZma",
        "outputId": "34f2ee8d-670e-4617-ca23-2d89ee4e9ba5"
      },
      "execution_count": null,
      "outputs": [
        {
          "output_type": "stream",
          "name": "stdout",
          "text": [
            "Level : Difficult\n"
          ]
        }
      ]
    },
    {
      "cell_type": "code",
      "source": [
        "for key, value in dict_la.items():\n",
        "  print(key, ':',value)"
      ],
      "metadata": {
        "colab": {
          "base_uri": "https://localhost:8080/"
        },
        "id": "R6QtxucAOdgb",
        "outputId": "0c4ac408-f068-4216-867a-16f7cbd37bed"
      },
      "execution_count": null,
      "outputs": [
        {
          "output_type": "stream",
          "name": "stdout",
          "text": [
            "sub : English\n",
            "topic : Grammar\n",
            "Level : Difficult\n"
          ]
        }
      ]
    },
    {
      "cell_type": "code",
      "source": [
        "print(json.dumps(dict_la))"
      ],
      "metadata": {
        "colab": {
          "base_uri": "https://localhost:8080/"
        },
        "id": "fAfBaVyzPH6N",
        "outputId": "8781a409-f381-4b8f-dffa-007f80f940a7"
      },
      "execution_count": null,
      "outputs": [
        {
          "output_type": "stream",
          "name": "stdout",
          "text": [
            "{\"sub\": \"English\", \"topic\": \"Grammar\", \"Level\": \"Difficult\"}\n"
          ]
        }
      ]
    },
    {
      "cell_type": "code",
      "source": [
        "import pandas as pd\n",
        "\n",
        "lst_boy = {\n",
        "    'Mech_boys': [\n",
        "        {'Name': 'Sam', 'age': 20},\n",
        "        {'Name': 'Vasu', 'age': 13}\n",
        "    ],\n",
        "    'Royal_boys': [{'Name': 'Sara', 'age': 20}]\n",
        "}\n",
        "data = []\n",
        "for Category, boys in lst_boy.items():\n",
        "    for boy in boys:\n",
        "        boy['Category'] = Category\n",
        "        data.append(boy)\n",
        "df = pd.DataFrame(data)\n",
        "print(df)"
      ],
      "metadata": {
        "colab": {
          "base_uri": "https://localhost:8080/"
        },
        "id": "3ngMa33Pshz2",
        "outputId": "8a0e997e-09ba-421f-9b79-5c25de741734"
      },
      "execution_count": null,
      "outputs": [
        {
          "output_type": "stream",
          "name": "stdout",
          "text": [
            "   Name  age    Category\n",
            "0   Sam   20   Mech_boys\n",
            "1  Vasu   13   Mech_boys\n",
            "2  Sara   20  Royal_boys\n"
          ]
        }
      ]
    },
    {
      "cell_type": "code",
      "source": [
        "import os\n",
        "import json"
      ],
      "metadata": {
        "id": "NBOl4g9CxWk-"
      },
      "execution_count": null,
      "outputs": []
    },
    {
      "cell_type": "code",
      "source": [
        "path_in_pet = \"data.join\"\n",
        "if os.path.exists(path_in_pet):\n",
        "  with open(path_in_pet, 'r') as f:\n",
        "    dict_data = json.load(f)\n",
        "    print(type(dict_data))\n",
        "    print(dict_data)\n",
        "else:\n",
        "  print(\"File not found\")"
      ],
      "metadata": {
        "colab": {
          "base_uri": "https://localhost:8080/"
        },
        "id": "-AhpQPPYxqFm",
        "outputId": "4d718516-6223-4083-a8bb-4e83c27fa375"
      },
      "execution_count": null,
      "outputs": [
        {
          "output_type": "stream",
          "name": "stdout",
          "text": [
            "File not found\n"
          ]
        }
      ]
    },
    {
      "cell_type": "code",
      "source": [
        "from dateutil import parser\n",
        "from datetime import datetime\n",
        "dt = parser.parse(\"Jun 6 2024 9:59PM\")\n",
        "print(dt)\n",
        "print(type(dt))\n",
        "datetime_object = datetime.strptime('Jun 6 2024 9:59PM', '%b %d %Y %I:%M%p')\n",
        "print(datetime_object)"
      ],
      "metadata": {
        "colab": {
          "base_uri": "https://localhost:8080/"
        },
        "id": "e9zBhBma15xS",
        "outputId": "9e452787-079c-4dca-84ff-5557a9543e68"
      },
      "execution_count": null,
      "outputs": [
        {
          "output_type": "stream",
          "name": "stdout",
          "text": [
            "2024-06-06 21:59:00\n",
            "<class 'datetime.datetime'>\n",
            "2024-06-06 21:59:00\n"
          ]
        }
      ]
    },
    {
      "cell_type": "code",
      "source": [
        "age = 20\n",
        "print(\"Age is \" + str(age))\n",
        "salary = 100000\n",
        "f_salary = float(salary)\n",
        "print(\"Float salary is \" + str(f_salary))\n",
        "salary = 100000.25\n",
        "print(\"Salary is \" + str(salary))\n",
        "i_salary = int(salary)\n",
        "print(\"Integer salary is \" + str(i_salary))"
      ],
      "metadata": {
        "colab": {
          "base_uri": "https://localhost:8080/"
        },
        "id": "y0uqU5DQ4f5f",
        "outputId": "e1583655-0325-40f0-d77a-172df56dfd6a"
      },
      "execution_count": null,
      "outputs": [
        {
          "output_type": "stream",
          "name": "stdout",
          "text": [
            "Age is 20\n",
            "Float salary is 100000.0\n",
            "Salary is 100000.25\n",
            "Integer salary is 100000\n"
          ]
        }
      ]
    },
    {
      "cell_type": "code",
      "source": [
        "amount = 20.15245152\n",
        "f_amount = float(\"{:.2f}\".format(amount))\n",
        "print(f_amount)\n",
        "amount = 20.15245152\n",
        "f_amount = round(amount, 2)\n",
        "print(f_amount)"
      ],
      "metadata": {
        "id": "fcoGsmUW7JOi",
        "outputId": "f93f0209-ce07-4d9c-86db-c75c7c2a9081",
        "colab": {
          "base_uri": "https://localhost:8080/"
        }
      },
      "execution_count": null,
      "outputs": [
        {
          "output_type": "stream",
          "name": "stdout",
          "text": [
            "20.15\n",
            "20.15\n"
          ]
        }
      ]
    },
    {
      "cell_type": "code",
      "source": [
        "def to_uppercase(in_str):\n",
        "    return str(in_str).upper()\n",
        "text = \"sam is a bad boy?\"\n",
        "text = to_uppercase(text)\n",
        "print(text)"
      ],
      "metadata": {
        "colab": {
          "base_uri": "https://localhost:8080/"
        },
        "id": "1LlyYk5Of72A",
        "outputId": "4199ade4-e89d-4265-aa06-e2d2ba5f4fe3"
      },
      "execution_count": 29,
      "outputs": [
        {
          "output_type": "stream",
          "name": "stdout",
          "text": [
            "SAM IS A BAD BOY?\n"
          ]
        }
      ]
    },
    {
      "cell_type": "code",
      "source": [
        "def to_lowercase(in_str):\n",
        "    return str(in_str).lower()\n",
        "text = \"An ant is a intelligent animal which named Sara\"\n",
        "text = to_lowercase(text)\n",
        "print(text)"
      ],
      "metadata": {
        "colab": {
          "base_uri": "https://localhost:8080/"
        },
        "id": "nVYPF8lciEub",
        "outputId": "64d0b8f8-2ed0-4cb8-d5bb-a10dc3656d30"
      },
      "execution_count": 30,
      "outputs": [
        {
          "output_type": "stream",
          "name": "stdout",
          "text": [
            "an ant is a intelligent animal which named sara\n"
          ]
        }
      ]
    },
    {
      "cell_type": "code",
      "source": [
        "text = \"This is the first line \\n This is the second line\"\n",
        "print(text)\n",
        "text_clean = text.replace(\"\\n\", \"\")\n",
        "print(text_clean)"
      ],
      "metadata": {
        "colab": {
          "base_uri": "https://localhost:8080/"
        },
        "id": "wEZbq9kuin07",
        "outputId": "80b83547-ec4a-4306-ed50-841fcdff71f0"
      },
      "execution_count": 32,
      "outputs": [
        {
          "output_type": "stream",
          "name": "stdout",
          "text": [
            "This is the first line \n",
            " This is the second line\n",
            "This is the first line  This is the second line\n"
          ]
        }
      ]
    },
    {
      "cell_type": "code",
      "source": [
        "dict_norm = {\n",
        "    \"Sweety\": \"Peacock\",\n",
        "    \"Deadly\": \"Peacock\",\n",
        "    \"Chubby\": \"Peacock\"\n",
        "}\n",
        "dict_species = {\n",
        "    \"Sara\": \"Sweety\",\n",
        "    \"Shivani\": \"Deadly\",\n",
        "    \"Dharshini\": \"Chubby\"\n",
        "}\n",
        "print(type(dict_species))\n",
        "dict_species_norm = {}\n",
        "for key, value in dict_species.items():\n",
        "  if value in dict_norm.keys():\n",
        "    dict_species_norm[key] = dict_norm[value]\n",
        "  else:\n",
        "    dict_species_norm[key]= value\n",
        "print(dict_species_norm)"
      ],
      "metadata": {
        "colab": {
          "base_uri": "https://localhost:8080/"
        },
        "id": "8F0X0141kImr",
        "outputId": "077881f9-32fc-4246-ce31-4e88f686b2a2"
      },
      "execution_count": 41,
      "outputs": [
        {
          "output_type": "stream",
          "name": "stdout",
          "text": [
            "<class 'dict'>\n",
            "{'Sara': 'Peacock', 'Shivani': 'Peacock', 'Dharshini': 'Peacock'}\n"
          ]
        }
      ]
    },
    {
      "cell_type": "code",
      "source": [
        "import pandas as pd\n",
        "data = {'name': ['Vetrimaaran', 'Sam', 'Lokesh'],\n",
        "        'age': [40, 20, 10]}\n",
        "df = pd.DataFrame(data)\n",
        "df[\"age_normalized\"] = df[\"age\"] / df[\"age\"].max()\n",
        "print(df)"
      ],
      "metadata": {
        "colab": {
          "base_uri": "https://localhost:8080/"
        },
        "id": "Dm2vUMUPm4B-",
        "outputId": "cb944ae3-c648-4f20-e984-d4e94c9f9715"
      },
      "execution_count": 49,
      "outputs": [
        {
          "output_type": "stream",
          "name": "stdout",
          "text": [
            "          name  age  age_normalized\n",
            "0  Vetrimaaran   40            1.00\n",
            "1          Sam   20            0.50\n",
            "2       Lokesh   10            0.25\n"
          ]
        }
      ]
    },
    {
      "cell_type": "code",
      "source": [
        "import re\n",
        "in_str = \"Did Samylike's Sara?\"\n",
        "str_clean = re.sub(r'y+', ' ', in_str)\n",
        "print(str_clean)"
      ],
      "metadata": {
        "colab": {
          "base_uri": "https://localhost:8080/"
        },
        "id": "F-J8RWt5otEa",
        "outputId": "9f22848b-db33-4937-c77d-7c84a24e3856"
      },
      "execution_count": 55,
      "outputs": [
        {
          "output_type": "stream",
          "name": "stdout",
          "text": [
            "Did Sam like's Sara?\n"
          ]
        }
      ]
    },
    {
      "cell_type": "code",
      "source": [
        "from dateutil import parser\n",
        "from datetime import datetime\n",
        "import timeit\n",
        "\n",
        "def fn_1():\n",
        "  dt = parser.parse(\"Jun 7 2024 11:08AM\")\n",
        "\n",
        "def fn_2():\n",
        "  datetime_object = datetime.strptime('Jun 7 2024 11:08AM', '%b %d %Y %I:%M%p')\n",
        "print(timeit.timeit(stmt=fn_2, number=10**6))"
      ],
      "metadata": {
        "colab": {
          "base_uri": "https://localhost:8080/"
        },
        "id": "L-7rvMr9pt_U",
        "outputId": "05568274-4bb2-45b4-e5d8-f8570d14ff73"
      },
      "execution_count": 62,
      "outputs": [
        {
          "output_type": "stream",
          "name": "stdout",
          "text": [
            "11.145018272000016\n"
          ]
        }
      ]
    },
    {
      "cell_type": "code",
      "source": [
        "import pandas as pd\n",
        "\n",
        "data = {\n",
        "    'State': ['Tamil Nadu', 'Tamil Nadu', 'Kerala', 'Kerala', 'Nepal', 'Nepal', 'Tamil Nadu', 'Kerala'],\n",
        "    'Sex': ['M', 'F', 'M', 'F', 'M', 'F', 'M', 'M']\n",
        "}\n",
        "df = pd.DataFrame(data)\n",
        "df_state_male = (\n",
        "    df[df['Sex'] == 'M']\n",
        "    .groupby('State')\n",
        "    .size()\n",
        "    .to_frame('count')\n",
        "    .reset_index()\n",
        ")\n",
        "df_sorted = df_state_male.sort_values(by='count', ascending=False)\n",
        "df_sorted['rank'] = df_sorted['count'].rank(ascending=False, method='min')\n",
        "df_sorted['pct_rank'] = df_sorted['count'].rank(pct=True) * 100\n",
        "print(df_sorted.head(10))"
      ],
      "metadata": {
        "colab": {
          "base_uri": "https://localhost:8080/"
        },
        "id": "9O6KLHfdvI0C",
        "outputId": "d452e324-745c-49c2-f142-a6967e6026b5"
      },
      "execution_count": 77,
      "outputs": [
        {
          "output_type": "stream",
          "name": "stdout",
          "text": [
            "        State  count  rank   pct_rank\n",
            "0      Kerala      2   1.0  83.333333\n",
            "2  Tamil Nadu      2   1.0  83.333333\n",
            "1       Nepal      1   3.0  33.333333\n"
          ]
        }
      ]
    },
    {
      "cell_type": "code",
      "source": [
        "b = \"Hello, World!\"\n",
        "print(b[:13])\n",
        "print(b.upper())\n",
        "print(b.lower())\n",
        "print(b.replace(\"Hello\", \"Hi\"))\n",
        "print(b.strip())\n",
        "print(b.split(\",\"))\n",
        "print(b.split(\" \"))"
      ],
      "metadata": {
        "id": "BSr3WdQp8Lne",
        "outputId": "84c5b977-dc49-4fdf-ca53-329271c69203",
        "colab": {
          "base_uri": "https://localhost:8080/"
        }
      },
      "execution_count": 112,
      "outputs": [
        {
          "output_type": "stream",
          "name": "stdout",
          "text": [
            "Hello, World!\n",
            "HELLO, WORLD!\n",
            "hello, world!\n",
            "Hi, World!\n",
            "Hello, World!\n",
            "['Hello', ' World!']\n",
            "['Hello,', 'World!']\n"
          ]
        }
      ]
    },
    {
      "cell_type": "code",
      "source": [
        "txt = \"My name is Sam\"\n",
        "print(txt)\n",
        "age = 20\n",
        "print(\"My Age is\", + age)"
      ],
      "metadata": {
        "id": "75ONU-mC-EZE",
        "outputId": "17551ede-1524-4bc4-e891-5ef9a6f93398",
        "colab": {
          "base_uri": "https://localhost:8080/"
        }
      },
      "execution_count": 122,
      "outputs": [
        {
          "output_type": "stream",
          "name": "stdout",
          "text": [
            "My name is Sam\n",
            "My Age is 20\n"
          ]
        }
      ]
    },
    {
      "cell_type": "code",
      "source": [
        "rupees = 1000\n",
        "txt = f\"The price of the Shirt is {rupees}\"\n",
        "print(txt)"
      ],
      "metadata": {
        "id": "cZ0ginh__kfE",
        "outputId": "4892c18a-e51a-42f3-d4f6-0c16810746d4",
        "colab": {
          "base_uri": "https://localhost:8080/"
        }
      },
      "execution_count": 123,
      "outputs": [
        {
          "output_type": "stream",
          "name": "stdout",
          "text": [
            "The price of the Shirt is 1000\n"
          ]
        }
      ]
    },
    {
      "cell_type": "code",
      "source": [
        "txt = \"We are so-called \\\"Indians\\\" fromn the south.\"\n",
        "print(txt)\n"
      ],
      "metadata": {
        "id": "dypHo512_72B",
        "outputId": "ed8beb21-c915-4ef4-cfc5-2695e9b06a93",
        "colab": {
          "base_uri": "https://localhost:8080/"
        }
      },
      "execution_count": 130,
      "outputs": [
        {
          "output_type": "stream",
          "name": "stdout",
          "text": [
            "We are so-called \"Indians\" fromn the south.\n"
          ]
        }
      ]
    },
    {
      "cell_type": "code",
      "source": [
        "x = \"I am very Special\"\n",
        "print(len(x))"
      ],
      "metadata": {
        "id": "yPPTUm5tAvW-",
        "outputId": "2ea34c40-c660-4ee1-8cfb-710502a74100",
        "colab": {
          "base_uri": "https://localhost:8080/"
        }
      },
      "execution_count": 133,
      "outputs": [
        {
          "output_type": "stream",
          "name": "stdout",
          "text": [
            "17\n"
          ]
        }
      ]
    },
    {
      "cell_type": "code",
      "source": [
        "print(10 > 9)\n",
        "print( 10 == 9)\n",
        "print(10 < 9)\n",
        "print(10!= 9)"
      ],
      "metadata": {
        "id": "zjUGnfK6DYa0",
        "outputId": "4d255a40-af73-449c-85e2-45d87d0d190e",
        "colab": {
          "base_uri": "https://localhost:8080/"
        }
      },
      "execution_count": 136,
      "outputs": [
        {
          "output_type": "stream",
          "name": "stdout",
          "text": [
            "True\n",
            "False\n",
            "False\n",
            "True\n"
          ]
        }
      ]
    },
    {
      "cell_type": "code",
      "source": [
        "x = 143\n",
        "y = 200\n",
        "if y > x:\n",
        "  print(\"x is less than y\")\n",
        "else:\n",
        "  print(\"x is greater than y\")"
      ],
      "metadata": {
        "id": "JbvCh53GDtOc",
        "outputId": "506c6e24-9ce2-44bc-8c00-7db282b8e7fa",
        "colab": {
          "base_uri": "https://localhost:8080/"
        }
      },
      "execution_count": 140,
      "outputs": [
        {
          "output_type": "stream",
          "name": "stdout",
          "text": [
            "x is less than y\n"
          ]
        }
      ]
    },
    {
      "cell_type": "code",
      "source": [
        "print(bool(\"x\"))\n",
        "print(bool(y))\n",
        "print(bool(0))"
      ],
      "metadata": {
        "id": "d0M7QognEKXi",
        "outputId": "936e27ac-f064-4e6d-e0e3-0cae00f3061e",
        "colab": {
          "base_uri": "https://localhost:8080/"
        }
      },
      "execution_count": 147,
      "outputs": [
        {
          "output_type": "stream",
          "name": "stdout",
          "text": [
            "True\n",
            "True\n",
            "False\n"
          ]
        }
      ]
    },
    {
      "cell_type": "code",
      "source": [
        "bool(\"siva\")\n",
        "bool('246')\n",
        "bool([\"Sita\", \"Maha\", \"Berry\"])\n",
        "bool([])"
      ],
      "metadata": {
        "id": "rM_V_z3UFK_C",
        "outputId": "804430a2-6cf1-48a3-eb57-64ae62168ab8",
        "colab": {
          "base_uri": "https://localhost:8080/"
        }
      },
      "execution_count": 148,
      "outputs": [
        {
          "output_type": "execute_result",
          "data": {
            "text/plain": [
              "False"
            ]
          },
          "metadata": {},
          "execution_count": 148
        }
      ]
    },
    {
      "cell_type": "code",
      "source": [],
      "metadata": {
        "id": "s_YmbsulFObL"
      },
      "execution_count": null,
      "outputs": []
    }
  ]
}